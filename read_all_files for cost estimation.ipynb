{
 "cells": [
  {
   "cell_type": "code",
   "execution_count": 1,
   "metadata": {},
   "outputs": [],
   "source": [
    "import pandas as pd\n",
    "import arff\n",
    "from scipy.io import arff"
   ]
  },
  {
   "cell_type": "code",
   "execution_count": 2,
   "metadata": {
    "scrolled": false
   },
   "outputs": [
    {
     "name": "stdout",
     "output_type": "stream",
     "text": [
      "C:\\Users\\adeol\\Desktop\\google drive API\\CostEstimation\\cocomo81.arff\n",
      "\\begin{tabular}{lrrrr}\n",
      "\\toprule\n",
      "{} &  min &      max &   mean &     std \\\\\n",
      "\\midrule\n",
      "rely   &  0.8 &      1.4 &    1.0 &     0.2 \\\\\n",
      "data   &  0.9 &      1.2 &    1.0 &     0.1 \\\\\n",
      "cplx   &  0.7 &      1.6 &    1.1 &     0.2 \\\\\n",
      "time   &  1.0 &      1.7 &    1.1 &     0.2 \\\\\n",
      "stor   &  1.0 &      1.6 &    1.1 &     0.2 \\\\\n",
      "virt   &  0.9 &      1.3 &    1.0 &     0.1 \\\\\n",
      "turn   &  0.9 &      1.2 &    1.0 &     0.1 \\\\\n",
      "acap   &  0.7 &      1.5 &    0.9 &     0.2 \\\\\n",
      "aexp   &  0.8 &      1.3 &    0.9 &     0.1 \\\\\n",
      "pcap   &  0.7 &      1.4 &    0.9 &     0.2 \\\\\n",
      "vexp   &  0.9 &      1.2 &    1.0 &     0.1 \\\\\n",
      "lexp   &  1.0 &      1.1 &    1.0 &     0.1 \\\\\n",
      "modp   &  0.8 &      1.2 &    1.0 &     0.1 \\\\\n",
      "tool   &  0.8 &      1.2 &    1.0 &     0.1 \\\\\n",
      "sced   &  1.0 &      1.2 &    1.0 &     0.1 \\\\\n",
      "loc    &  2.0 &   1150.0 &   77.2 &   168.5 \\\\\n",
      "actual &  5.9 &  11400.0 &  683.3 &  1821.6 \\\\\n",
      "\\bottomrule\n",
      "\\end{tabular}\n",
      "\n",
      "C:\\Users\\adeol\\Desktop\\google drive API\\CostEstimation\\cocomonasa_2.arff\n",
      "\\begin{tabular}{lllll}\n",
      "\\toprule\n",
      "{} &          min &              max &         mean &      std \\\\\n",
      "\\midrule\n",
      "recordnumber  &            1 &              101 &      47.7527 &  28.2299 \\\\\n",
      "projectname   &         b'X' &           b'spl' &          NaN &      NaN \\\\\n",
      "cat2          &  b'Avionics' &       b'utility' &          NaN &      NaN \\\\\n",
      "forg          &         b'f' &             b'g' &          NaN &      NaN \\\\\n",
      "center        &         b'1' &             b'6' &  2.38949e+90 &      NaN \\\\\n",
      "year          &         1971 &             1987 &      1980.83 &    3.335 \\\\\n",
      "mode          &  b'embedded' &  b'semidetached' &          NaN &      NaN \\\\\n",
      "rely          &         b'h' &            b'vh' &          NaN &      NaN \\\\\n",
      "data          &         b'h' &            b'vh' &          NaN &      NaN \\\\\n",
      "cplx          &         b'h' &            b'xh' &          NaN &      NaN \\\\\n",
      "time          &         b'h' &            b'xh' &          NaN &      NaN \\\\\n",
      "stor          &         b'h' &            b'xh' &          NaN &      NaN \\\\\n",
      "virt          &         b'h' &             b'n' &          NaN &      NaN \\\\\n",
      "turn          &         b'h' &            b'vh' &          NaN &      NaN \\\\\n",
      "acap          &         b'h' &            b'vh' &          NaN &      NaN \\\\\n",
      "aexp          &         b'h' &            b'vh' &          NaN &      NaN \\\\\n",
      "pcap          &         b'h' &            b'vh' &          NaN &      NaN \\\\\n",
      "vexp          &         b'h' &            b'vl' &          NaN &      NaN \\\\\n",
      "lexp          &         b'h' &            b'vl' &          NaN &      NaN \\\\\n",
      "modp          &         b'h' &            b'vl' &          NaN &      NaN \\\\\n",
      "tool          &         b'h' &            b'vl' &          NaN &      NaN \\\\\n",
      "sced          &         b'h' &             b'n' &          NaN &      NaN \\\\\n",
      "equivphyskloc &          0.9 &              980 &       94.022 &  133.598 \\\\\n",
      "act\\_effort    &          8.4 &             8211 &      624.412 &  1135.93 \\\\\n",
      "\\bottomrule\n",
      "\\end{tabular}\n",
      "\n",
      "C:\\Users\\adeol\\Desktop\\google drive API\\CostEstimation\\desharnais.arff\n",
      "\\begin{tabular}{lllll}\n",
      "\\toprule\n",
      "{} &   min &    max &         mean &      std \\\\\n",
      "\\midrule\n",
      "Project        &     1 &     81 &           41 &  23.5266 \\\\\n",
      "TeamExp        &     0 &      4 &      2.26582 &  1.33694 \\\\\n",
      "ManagerExp     &     0 &      7 &      2.66667 &  1.51757 \\\\\n",
      "YearEnd        &    83 &     88 &      85.7901 &    1.148 \\\\\n",
      "Length         &     1 &     39 &       11.716 &  7.39972 \\\\\n",
      "Effort         &   546 &  23940 &      5046.31 &  4418.77 \\\\\n",
      "Transactions   &     9 &    886 &      179.901 &  143.315 \\\\\n",
      "Entities       &     7 &    387 &      122.333 &  84.8821 \\\\\n",
      "PointsAdjust   &    73 &   1127 &      302.235 &  179.677 \\\\\n",
      "Envergure      &     5 &     52 &      27.6296 &  10.5918 \\\\\n",
      "PointsNonAjust &    62 &   1116 &      287.049 &  185.108 \\\\\n",
      "Language       &  b'1' &   b'3' &  1.37174e+78 &      NaN \\\\\n",
      "\\bottomrule\n",
      "\\end{tabular}\n",
      "\n"
     ]
    }
   ],
   "source": [
    "\n",
    "import glob\n",
    "path = r'C:\\Users\\adeol\\Desktop\\google drive API\\CostEstimation\\*.arff'\n",
    "for fname in glob.glob(path):\n",
    "    data = arff.loadarff(fname)\n",
    "    df=pd.DataFrame(data[0])\n",
    "    my_list=list(df.columns)\n",
    "    print(fname)\n",
    "    print(round(df.agg(['min','max','mean','std']).transpose(),1).to_latex())\n",
    "    #print(round(df.describe(),2)[['min','max','mean','std']].transpose().to_latex())\n",
    "    #print(df.describe().transpose()[['min','max','mean','std']])\n",
    "    "
   ]
  },
  {
   "cell_type": "code",
   "execution_count": 3,
   "metadata": {
    "scrolled": false
   },
   "outputs": [
    {
     "name": "stdout",
     "output_type": "stream",
     "text": [
      "C:\\Users\\adeol\\Desktop\\google drive API\\CostEstimation\\cocomonasa_v1.csv\n",
      "\\begin{tabular}{lllll}\n",
      "\\toprule\n",
      "{} &                                                min &                                                max &     mean &      std \\\\\n",
      "\\midrule\n",
      "id         &                                                  1 &                                                 60 &     30.5 &  17.4642 \\\\\n",
      "RELY       &                                               High &                                          Very\\_High &      NaN &      NaN \\\\\n",
      "DATA       &                                               High &                                          Very\\_High &      NaN &      NaN \\\\\n",
      "CPLX       &                                         Extra\\_High &                                          Very\\_High &      NaN &      NaN \\\\\n",
      "TIME       &                                         Extra\\_High &                                          Very\\_High &      NaN &      NaN \\\\\n",
      "STOR       &                                         Extra\\_High &                                          Very\\_High &      NaN &      NaN \\\\\n",
      "VIRT       &                                               High &                                            Nominal &      NaN &      NaN \\\\\n",
      "TURN       &                                               High &                                            Nominal &      NaN &      NaN \\\\\n",
      "ACAP       &                                               High &                                          Very\\_High &      NaN &      NaN \\\\\n",
      "AEXP       &                                               High &                                          Very\\_High &      NaN &      NaN \\\\\n",
      "PCAP       &                                               High &                                          Very\\_High &      NaN &      NaN \\\\\n",
      "VEXP       &                                               High &                                            Nominal &      NaN &      NaN \\\\\n",
      "LEXP       &                                               High &                                           Very\\_Low &      NaN &      NaN \\\\\n",
      "MODP       &                                               High &                                          Very\\_High &      NaN &      NaN \\\\\n",
      "TOOL       &                                               High &                                           Very\\_Low &      NaN &      NaN \\\\\n",
      "SCED       &                                               High &                                            Nominal &      NaN &      NaN \\\\\n",
      "LOC        &                                                2.2 &                                                423 &  74.5883 &  97.1721 \\\\\n",
      "ACT\\_EFFORT &  10.8                                    \\%\\textbackslash tins... &  98.8                                     \\%\\textbackslash tin... &      NaN &      NaN \\\\\n",
      "\\bottomrule\n",
      "\\end{tabular}\n",
      "\n",
      "\n",
      "\n",
      "C:\\Users\\adeol\\Desktop\\google drive API\\CostEstimation\\fp.csv\n",
      "\\begin{tabular}{lrrrr}\n",
      "\\toprule\n",
      "{} &    min &      max &      mean &       std \\\\\n",
      "\\midrule\n",
      "id              &    1.0 &     81.0 &    41.000 &    23.527 \\\\\n",
      "Project         &    1.0 &     81.0 &    41.000 &    23.527 \\\\\n",
      "TeamExp         &   -1.0 &      4.0 &     2.185 &     1.415 \\\\\n",
      "ManagerExp      &   -1.0 &      7.0 &     2.531 &     1.644 \\\\\n",
      "YearEnd         &   82.0 &     88.0 &    85.741 &     1.222 \\\\\n",
      "Length          &    1.0 &     39.0 &    11.667 &     7.425 \\\\\n",
      "Effort          &  546.0 &  23940.0 &  5046.309 &  4418.767 \\\\\n",
      "Transactions    &    9.0 &    886.0 &   182.123 &   144.035 \\\\\n",
      "Entities        &    7.0 &    387.0 &   122.333 &    84.882 \\\\\n",
      "PointsNonAdjust &   73.0 &   1127.0 &   304.457 &   180.210 \\\\\n",
      "Adjustment      &    5.0 &     52.0 &    27.630 &    10.592 \\\\\n",
      "PointsAjust     &   62.0 &   1116.0 &   289.235 &   185.761 \\\\\n",
      "Language        &    1.0 &      3.0 &     1.556 &     0.707 \\\\\n",
      "\\bottomrule\n",
      "\\end{tabular}\n",
      "\n",
      "\n",
      "\n"
     ]
    }
   ],
   "source": [
    "\n",
    "path = r'C:\\Users\\adeol\\Desktop\\google drive API\\CostEstimation\\*.csv'\n",
    "for fname in glob.glob(path):\n",
    "    df=pd.read_csv(fname,sep = ',')\n",
    "    my_list=list(df.columns)\n",
    "    print(fname)\n",
    "    print(round(df.agg(['min','max','mean','std']).transpose(),3).to_latex())\n",
    "    \n",
    "                \n",
    "    print('\\n')"
   ]
  },
  {
   "cell_type": "code",
   "execution_count": null,
   "metadata": {},
   "outputs": [],
   "source": []
  },
  {
   "cell_type": "code",
   "execution_count": null,
   "metadata": {},
   "outputs": [],
   "source": []
  },
  {
   "cell_type": "code",
   "execution_count": null,
   "metadata": {},
   "outputs": [],
   "source": []
  },
  {
   "cell_type": "code",
   "execution_count": null,
   "metadata": {},
   "outputs": [],
   "source": []
  },
  {
   "cell_type": "code",
   "execution_count": null,
   "metadata": {},
   "outputs": [],
   "source": []
  },
  {
   "cell_type": "code",
   "execution_count": null,
   "metadata": {},
   "outputs": [],
   "source": []
  },
  {
   "cell_type": "code",
   "execution_count": null,
   "metadata": {},
   "outputs": [],
   "source": []
  },
  {
   "cell_type": "code",
   "execution_count": null,
   "metadata": {},
   "outputs": [],
   "source": []
  },
  {
   "cell_type": "code",
   "execution_count": null,
   "metadata": {},
   "outputs": [],
   "source": []
  },
  {
   "cell_type": "markdown",
   "metadata": {},
   "source": [
    "import glob\n",
    "import csv\n",
    "\n",
    "PATH = r'C:\\Users\\adeol\\Desktop\\google drive API\\effortEstimation\\*.csv'\n",
    "\n",
    "for file in glob.glob(PATH):\n",
    "    with open(file) as csvfile:\n",
    "        spamreader = csv.reader(csvfile, delimiter=',')\n",
    "        print(spamreader)\n",
    "            "
   ]
  },
  {
   "cell_type": "markdown",
   "metadata": {},
   "source": [
    "import os, fnmatch\n",
    "import csv\n",
    "listOfFiles = os.listdir('.')  \n",
    "pattern = \"*.csv\"  \n",
    "for entry in listOfFiles:  \n",
    "    if fnmatch.fnmatch(entry, pattern):\n",
    "        with open(entry, newline='') as csvfile:\n",
    "            spamreader = csv.reader(csvfile)\n",
    "            for line in spamreader:\n",
    "                print(line)"
   ]
  },
  {
   "cell_type": "code",
   "execution_count": null,
   "metadata": {},
   "outputs": [],
   "source": []
  }
 ],
 "metadata": {
  "kernelspec": {
   "display_name": "Python 3",
   "language": "python",
   "name": "python3"
  },
  "language_info": {
   "codemirror_mode": {
    "name": "ipython",
    "version": 3
   },
   "file_extension": ".py",
   "mimetype": "text/x-python",
   "name": "python",
   "nbconvert_exporter": "python",
   "pygments_lexer": "ipython3",
   "version": "3.7.4"
  }
 },
 "nbformat": 4,
 "nbformat_minor": 2
}
